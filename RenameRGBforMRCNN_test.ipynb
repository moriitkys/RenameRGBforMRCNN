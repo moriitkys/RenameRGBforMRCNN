{
 "cells": [
  {
   "cell_type": "markdown",
   "metadata": {},
   "source": [
    "# RenameRGBforMRCNN\n",
    "## Auther : moriitkys"
   ]
  },
  {
   "cell_type": "code",
   "execution_count": 1,
   "metadata": {},
   "outputs": [],
   "source": [
    "import shutil\n",
    "import glob\n",
    "import os\n",
    "import csv\n",
    "\n",
    "import numpy as np\n",
    "import random\n",
    "import matplotlib.pyplot as plt\n",
    "\n",
    "import PIL\n",
    "from PIL import Image\n",
    "import cv2\n",
    "\n",
    "from pathlib import Path\n",
    "import shutil\n",
    "\n",
    "from sklearn.model_selection import train_test_split\n",
    "\n",
    "import mylib.create_panel_for_selectfolder as create_panel\n",
    "import mylib.config as config\n",
    "config_param = config.ConfigParameters()\n",
    "\n",
    "# ------ Setting panels ------\n",
    "import tkinter\n",
    "from tkinter import messagebox\n",
    "\n",
    "key_for_searching_foldername = config_param.key_for_mdl\n",
    "setting_panel = create_panel.CreatePanelForSelectFolder(key_for_searching_foldername)\n",
    "setting_panel.create_buttons()#If you push \"start\", exit this line.\n",
    "\n",
    "list_selected_folders = setting_panel.list_selected_folders\n",
    "\n",
    "extentions = {\"_c.png\":\".png\", \"_c_mask\":\"_mask.png\"}\n",
    "\n",
    "for selected_folder in list_selected_folders:\n",
    "    print(selected_folder)\n",
    "    for file in glob.glob(selected_folder + \"/*\"):\n",
    "        for key in extentions:\n",
    "            if extentions[key] in file:\n",
    "                input_img = cv2.imread(file)\n",
    "                cv2.imwrite(file.replace(key, extentions[key]), input_img)\n",
    "                \n",
    "print(\" Complete RenameRGBforMRCNN_test \")"
   ]
  },
  {
   "cell_type": "code",
   "execution_count": null,
   "metadata": {},
   "outputs": [],
   "source": []
  }
 ],
 "metadata": {
  "kernelspec": {
   "display_name": "Python 3",
   "language": "python",
   "name": "python3"
  },
  "language_info": {
   "codemirror_mode": {
    "name": "ipython",
    "version": 3
   },
   "file_extension": ".py",
   "mimetype": "text/x-python",
   "name": "python",
   "nbconvert_exporter": "python",
   "pygments_lexer": "ipython3",
   "version": "3.6.5"
  }
 },
 "nbformat": 4,
 "nbformat_minor": 2
}
